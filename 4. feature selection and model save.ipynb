{
 "cells": [
  {
   "cell_type": "markdown",
   "id": "25db2682",
   "metadata": {},
   "source": [
    "# Import all needed library "
   ]
  },
  {
   "cell_type": "code",
   "execution_count": 1,
   "id": "80123754",
   "metadata": {},
   "outputs": [],
   "source": [
    "import pandas as pd\n",
    "from sklearn.model_selection import train_test_split, GridSearchCV\n",
    "from sklearn.preprocessing import StandardScaler\n",
    "from sklearn.feature_selection import SelectKBest, f_regression\n",
    "from sklearn.linear_model import LinearRegression\n",
    "from sklearn.svm import SVR\n",
    "from sklearn.tree import DecisionTreeRegressor\n",
    "from sklearn.ensemble import RandomForestRegressor\n",
    "from sklearn.metrics import r2_score\n",
    "import pickle"
   ]
  },
  {
   "cell_type": "markdown",
   "id": "1e84f610",
   "metadata": {},
   "source": [
    "# Using StandardScaler proprecess the x_train and x_test"
   ]
  },
  {
   "cell_type": "code",
   "execution_count": 2,
   "id": "7d56ee75",
   "metadata": {},
   "outputs": [],
   "source": [
    "def preprocess_data(X_train, X_test):\n",
    "    scaler = StandardScaler()\n",
    "    X_train_scaled = scaler.fit_transform(X_train)\n",
    "    X_test_scaled = scaler.transform(X_test)\n",
    "    return X_train_scaled, X_test_scaled, scaler\n"
   ]
  },
  {
   "cell_type": "markdown",
   "id": "9cd5400e",
   "metadata": {},
   "source": [
    "# Using Train_test_split the split dataset"
   ]
  },
  {
   "cell_type": "code",
   "execution_count": 3,
   "id": "9d19bc24",
   "metadata": {},
   "outputs": [],
   "source": [
    "def split_data(X, y, test_size=0.2, random_state=42):\n",
    "    X_train, X_test, y_train, y_test = train_test_split(X, y, test_size=test_size, random_state=random_state)\n",
    "    return X_train, X_test, y_train, y_test"
   ]
  },
  {
   "cell_type": "markdown",
   "id": "4f9600cf",
   "metadata": {},
   "source": [
    "# Features selection "
   ]
  },
  {
   "cell_type": "code",
   "execution_count": 4,
   "id": "507a5f6f",
   "metadata": {},
   "outputs": [],
   "source": [
    "def select_k_best(X_train, X_test, y_train, k=5):\n",
    "# In the selectKBest algorthium f_regression is used in regression model    \n",
    "    selector = SelectKBest(f_regression, k=k)\n",
    "    X_train_selected = selector.fit_transform(X_train, y_train)\n",
    "    X_test_selected = selector.transform(X_test)\n",
    "    return X_train_selected, X_test_selected, selector"
   ]
  },
  {
   "cell_type": "markdown",
   "id": "0e417277",
   "metadata": {},
   "source": [
    "# Model "
   ]
  },
  {
   "cell_type": "code",
   "execution_count": 5,
   "id": "dc3ddcd7",
   "metadata": {},
   "outputs": [],
   "source": [
    "# Using hyperparameter model is fit and fined the best model\n",
    "def train_models(X_train, y_train):\n",
    "    models = {\n",
    "        'Linear Regression': LinearRegression(),\n",
    "        'SVR': SVR(),\n",
    "        'Decision Tree': DecisionTreeRegressor(),\n",
    "        'Random Forest': RandomForestRegressor()\n",
    "    }\n",
    "    \n",
    "    best_models = {}\n",
    "    \n",
    "    for name, model in models.items():\n",
    "        param_grid = {\n",
    "            \"Linear Regression\": {},  \n",
    "            \"SVR\": {'kernel': ['rbf', 'poly', 'sigmoid', 'linear'], 'C': [10, 100], 'gamma': [\"auto\", \"scale\"]},\n",
    "            \"Decision Tree\": {'criterion': ['mse', 'mae', 'friedman_mse'], 'max_features': ['auto', 'sqrt', 'log2'],\n",
    "                              'splitter': [\"best\", \"random\"]},\n",
    "            \"Random Forest\": {'criterion': [\"squared_error\", \"absolute_error\", 'friedman_mse', 'poisson'],\n",
    "                              'max_features': ['auto', 'sqrt', 'log2'], 'n_estimators': [10, 100]}\n",
    "        }\n",
    "        \n",
    "        \n",
    "        if name == \"Linear Regression\":\n",
    "            param_grid[name] = [{}]\n",
    "\n",
    "        grid_search = GridSearchCV(model, param_grid[name], cv=5, scoring='r2')\n",
    "        grid_search.fit(X_train, y_train)\n",
    "        \n",
    "        best_models[name] = grid_search.best_estimator_\n",
    "    \n",
    "    return best_models"
   ]
  },
  {
   "cell_type": "markdown",
   "id": "2addccc7",
   "metadata": {},
   "source": [
    "# Which is model is best using r2_score"
   ]
  },
  {
   "cell_type": "code",
   "execution_count": 6,
   "id": "909e97d4",
   "metadata": {},
   "outputs": [],
   "source": [
    "# predict the values and view model and r2_score in dataframe\n",
    "def evaluate_models(models, X_test, y_test):\n",
    "    results = {'Model': [], 'R2 Score': []}\n",
    "    \n",
    "    for name, model in models.items():\n",
    "        y_pred = model.predict(X_test)\n",
    "        r2 = r2_score(y_test, y_pred)\n",
    "        \n",
    "        results['Model'].append(name)\n",
    "        results['R2 Score'].append(r2)\n",
    "    \n",
    "    results_df = pd.DataFrame(results)\n",
    "    return results_df"
   ]
  },
  {
   "cell_type": "markdown",
   "id": "54de6394",
   "metadata": {},
   "source": [
    "# Save model"
   ]
  },
  {
   "cell_type": "code",
   "execution_count": 24,
   "id": "5fbbcd04",
   "metadata": {},
   "outputs": [],
   "source": [
    "def save_model(model, filename, mode='wb'):\n",
    "    with open(filename, mode) as file:\n",
    "        pickle.dump(model, file)"
   ]
  },
  {
   "cell_type": "code",
   "execution_count": 8,
   "id": "93a1a9c2",
   "metadata": {
    "scrolled": true
   },
   "outputs": [
    {
     "name": "stderr",
     "output_type": "stream",
     "text": [
      "C:\\Users\\Admin\\anaconda3\\envs\\AIcoures\\lib\\site-packages\\sklearn\\tree\\_classes.py:363: FutureWarning: Criterion 'mse' was deprecated in v1.0 and will be removed in version 1.2. Use `criterion='squared_error'` which is equivalent.\n",
      "  FutureWarning,\n",
      "C:\\Users\\Admin\\anaconda3\\envs\\AIcoures\\lib\\site-packages\\sklearn\\tree\\_classes.py:363: FutureWarning: Criterion 'mse' was deprecated in v1.0 and will be removed in version 1.2. Use `criterion='squared_error'` which is equivalent.\n",
      "  FutureWarning,\n",
      "C:\\Users\\Admin\\anaconda3\\envs\\AIcoures\\lib\\site-packages\\sklearn\\tree\\_classes.py:363: FutureWarning: Criterion 'mse' was deprecated in v1.0 and will be removed in version 1.2. Use `criterion='squared_error'` which is equivalent.\n",
      "  FutureWarning,\n",
      "C:\\Users\\Admin\\anaconda3\\envs\\AIcoures\\lib\\site-packages\\sklearn\\tree\\_classes.py:363: FutureWarning: Criterion 'mse' was deprecated in v1.0 and will be removed in version 1.2. Use `criterion='squared_error'` which is equivalent.\n",
      "  FutureWarning,\n",
      "C:\\Users\\Admin\\anaconda3\\envs\\AIcoures\\lib\\site-packages\\sklearn\\tree\\_classes.py:363: FutureWarning: Criterion 'mse' was deprecated in v1.0 and will be removed in version 1.2. Use `criterion='squared_error'` which is equivalent.\n",
      "  FutureWarning,\n",
      "C:\\Users\\Admin\\anaconda3\\envs\\AIcoures\\lib\\site-packages\\sklearn\\tree\\_classes.py:363: FutureWarning: Criterion 'mse' was deprecated in v1.0 and will be removed in version 1.2. Use `criterion='squared_error'` which is equivalent.\n",
      "  FutureWarning,\n",
      "C:\\Users\\Admin\\anaconda3\\envs\\AIcoures\\lib\\site-packages\\sklearn\\tree\\_classes.py:363: FutureWarning: Criterion 'mse' was deprecated in v1.0 and will be removed in version 1.2. Use `criterion='squared_error'` which is equivalent.\n",
      "  FutureWarning,\n",
      "C:\\Users\\Admin\\anaconda3\\envs\\AIcoures\\lib\\site-packages\\sklearn\\tree\\_classes.py:363: FutureWarning: Criterion 'mse' was deprecated in v1.0 and will be removed in version 1.2. Use `criterion='squared_error'` which is equivalent.\n",
      "  FutureWarning,\n",
      "C:\\Users\\Admin\\anaconda3\\envs\\AIcoures\\lib\\site-packages\\sklearn\\tree\\_classes.py:363: FutureWarning: Criterion 'mse' was deprecated in v1.0 and will be removed in version 1.2. Use `criterion='squared_error'` which is equivalent.\n",
      "  FutureWarning,\n",
      "C:\\Users\\Admin\\anaconda3\\envs\\AIcoures\\lib\\site-packages\\sklearn\\tree\\_classes.py:363: FutureWarning: Criterion 'mse' was deprecated in v1.0 and will be removed in version 1.2. Use `criterion='squared_error'` which is equivalent.\n",
      "  FutureWarning,\n",
      "C:\\Users\\Admin\\anaconda3\\envs\\AIcoures\\lib\\site-packages\\sklearn\\tree\\_classes.py:363: FutureWarning: Criterion 'mse' was deprecated in v1.0 and will be removed in version 1.2. Use `criterion='squared_error'` which is equivalent.\n",
      "  FutureWarning,\n",
      "C:\\Users\\Admin\\anaconda3\\envs\\AIcoures\\lib\\site-packages\\sklearn\\tree\\_classes.py:363: FutureWarning: Criterion 'mse' was deprecated in v1.0 and will be removed in version 1.2. Use `criterion='squared_error'` which is equivalent.\n",
      "  FutureWarning,\n",
      "C:\\Users\\Admin\\anaconda3\\envs\\AIcoures\\lib\\site-packages\\sklearn\\tree\\_classes.py:363: FutureWarning: Criterion 'mse' was deprecated in v1.0 and will be removed in version 1.2. Use `criterion='squared_error'` which is equivalent.\n",
      "  FutureWarning,\n",
      "C:\\Users\\Admin\\anaconda3\\envs\\AIcoures\\lib\\site-packages\\sklearn\\tree\\_classes.py:363: FutureWarning: Criterion 'mse' was deprecated in v1.0 and will be removed in version 1.2. Use `criterion='squared_error'` which is equivalent.\n",
      "  FutureWarning,\n",
      "C:\\Users\\Admin\\anaconda3\\envs\\AIcoures\\lib\\site-packages\\sklearn\\tree\\_classes.py:363: FutureWarning: Criterion 'mse' was deprecated in v1.0 and will be removed in version 1.2. Use `criterion='squared_error'` which is equivalent.\n",
      "  FutureWarning,\n",
      "C:\\Users\\Admin\\anaconda3\\envs\\AIcoures\\lib\\site-packages\\sklearn\\tree\\_classes.py:363: FutureWarning: Criterion 'mse' was deprecated in v1.0 and will be removed in version 1.2. Use `criterion='squared_error'` which is equivalent.\n",
      "  FutureWarning,\n",
      "C:\\Users\\Admin\\anaconda3\\envs\\AIcoures\\lib\\site-packages\\sklearn\\tree\\_classes.py:363: FutureWarning: Criterion 'mse' was deprecated in v1.0 and will be removed in version 1.2. Use `criterion='squared_error'` which is equivalent.\n",
      "  FutureWarning,\n",
      "C:\\Users\\Admin\\anaconda3\\envs\\AIcoures\\lib\\site-packages\\sklearn\\tree\\_classes.py:363: FutureWarning: Criterion 'mse' was deprecated in v1.0 and will be removed in version 1.2. Use `criterion='squared_error'` which is equivalent.\n",
      "  FutureWarning,\n",
      "C:\\Users\\Admin\\anaconda3\\envs\\AIcoures\\lib\\site-packages\\sklearn\\tree\\_classes.py:363: FutureWarning: Criterion 'mse' was deprecated in v1.0 and will be removed in version 1.2. Use `criterion='squared_error'` which is equivalent.\n",
      "  FutureWarning,\n",
      "C:\\Users\\Admin\\anaconda3\\envs\\AIcoures\\lib\\site-packages\\sklearn\\tree\\_classes.py:363: FutureWarning: Criterion 'mse' was deprecated in v1.0 and will be removed in version 1.2. Use `criterion='squared_error'` which is equivalent.\n",
      "  FutureWarning,\n",
      "C:\\Users\\Admin\\anaconda3\\envs\\AIcoures\\lib\\site-packages\\sklearn\\tree\\_classes.py:363: FutureWarning: Criterion 'mse' was deprecated in v1.0 and will be removed in version 1.2. Use `criterion='squared_error'` which is equivalent.\n",
      "  FutureWarning,\n",
      "C:\\Users\\Admin\\anaconda3\\envs\\AIcoures\\lib\\site-packages\\sklearn\\tree\\_classes.py:363: FutureWarning: Criterion 'mse' was deprecated in v1.0 and will be removed in version 1.2. Use `criterion='squared_error'` which is equivalent.\n",
      "  FutureWarning,\n",
      "C:\\Users\\Admin\\anaconda3\\envs\\AIcoures\\lib\\site-packages\\sklearn\\tree\\_classes.py:363: FutureWarning: Criterion 'mse' was deprecated in v1.0 and will be removed in version 1.2. Use `criterion='squared_error'` which is equivalent.\n",
      "  FutureWarning,\n",
      "C:\\Users\\Admin\\anaconda3\\envs\\AIcoures\\lib\\site-packages\\sklearn\\tree\\_classes.py:363: FutureWarning: Criterion 'mse' was deprecated in v1.0 and will be removed in version 1.2. Use `criterion='squared_error'` which is equivalent.\n",
      "  FutureWarning,\n",
      "C:\\Users\\Admin\\anaconda3\\envs\\AIcoures\\lib\\site-packages\\sklearn\\tree\\_classes.py:363: FutureWarning: Criterion 'mse' was deprecated in v1.0 and will be removed in version 1.2. Use `criterion='squared_error'` which is equivalent.\n",
      "  FutureWarning,\n",
      "C:\\Users\\Admin\\anaconda3\\envs\\AIcoures\\lib\\site-packages\\sklearn\\tree\\_classes.py:363: FutureWarning: Criterion 'mse' was deprecated in v1.0 and will be removed in version 1.2. Use `criterion='squared_error'` which is equivalent.\n",
      "  FutureWarning,\n",
      "C:\\Users\\Admin\\anaconda3\\envs\\AIcoures\\lib\\site-packages\\sklearn\\tree\\_classes.py:363: FutureWarning: Criterion 'mse' was deprecated in v1.0 and will be removed in version 1.2. Use `criterion='squared_error'` which is equivalent.\n",
      "  FutureWarning,\n",
      "C:\\Users\\Admin\\anaconda3\\envs\\AIcoures\\lib\\site-packages\\sklearn\\tree\\_classes.py:363: FutureWarning: Criterion 'mse' was deprecated in v1.0 and will be removed in version 1.2. Use `criterion='squared_error'` which is equivalent.\n",
      "  FutureWarning,\n",
      "C:\\Users\\Admin\\anaconda3\\envs\\AIcoures\\lib\\site-packages\\sklearn\\tree\\_classes.py:363: FutureWarning: Criterion 'mse' was deprecated in v1.0 and will be removed in version 1.2. Use `criterion='squared_error'` which is equivalent.\n",
      "  FutureWarning,\n",
      "C:\\Users\\Admin\\anaconda3\\envs\\AIcoures\\lib\\site-packages\\sklearn\\tree\\_classes.py:363: FutureWarning: Criterion 'mse' was deprecated in v1.0 and will be removed in version 1.2. Use `criterion='squared_error'` which is equivalent.\n",
      "  FutureWarning,\n",
      "C:\\Users\\Admin\\anaconda3\\envs\\AIcoures\\lib\\site-packages\\sklearn\\tree\\_classes.py:370: FutureWarning: Criterion 'mae' was deprecated in v1.0 and will be removed in version 1.2. Use `criterion='absolute_error'` which is equivalent.\n",
      "  FutureWarning,\n",
      "C:\\Users\\Admin\\anaconda3\\envs\\AIcoures\\lib\\site-packages\\sklearn\\tree\\_classes.py:370: FutureWarning: Criterion 'mae' was deprecated in v1.0 and will be removed in version 1.2. Use `criterion='absolute_error'` which is equivalent.\n",
      "  FutureWarning,\n",
      "C:\\Users\\Admin\\anaconda3\\envs\\AIcoures\\lib\\site-packages\\sklearn\\tree\\_classes.py:370: FutureWarning: Criterion 'mae' was deprecated in v1.0 and will be removed in version 1.2. Use `criterion='absolute_error'` which is equivalent.\n",
      "  FutureWarning,\n",
      "C:\\Users\\Admin\\anaconda3\\envs\\AIcoures\\lib\\site-packages\\sklearn\\tree\\_classes.py:370: FutureWarning: Criterion 'mae' was deprecated in v1.0 and will be removed in version 1.2. Use `criterion='absolute_error'` which is equivalent.\n",
      "  FutureWarning,\n"
     ]
    },
    {
     "name": "stderr",
     "output_type": "stream",
     "text": [
      "C:\\Users\\Admin\\anaconda3\\envs\\AIcoures\\lib\\site-packages\\sklearn\\tree\\_classes.py:370: FutureWarning: Criterion 'mae' was deprecated in v1.0 and will be removed in version 1.2. Use `criterion='absolute_error'` which is equivalent.\n",
      "  FutureWarning,\n",
      "C:\\Users\\Admin\\anaconda3\\envs\\AIcoures\\lib\\site-packages\\sklearn\\tree\\_classes.py:370: FutureWarning: Criterion 'mae' was deprecated in v1.0 and will be removed in version 1.2. Use `criterion='absolute_error'` which is equivalent.\n",
      "  FutureWarning,\n",
      "C:\\Users\\Admin\\anaconda3\\envs\\AIcoures\\lib\\site-packages\\sklearn\\tree\\_classes.py:370: FutureWarning: Criterion 'mae' was deprecated in v1.0 and will be removed in version 1.2. Use `criterion='absolute_error'` which is equivalent.\n",
      "  FutureWarning,\n",
      "C:\\Users\\Admin\\anaconda3\\envs\\AIcoures\\lib\\site-packages\\sklearn\\tree\\_classes.py:370: FutureWarning: Criterion 'mae' was deprecated in v1.0 and will be removed in version 1.2. Use `criterion='absolute_error'` which is equivalent.\n",
      "  FutureWarning,\n",
      "C:\\Users\\Admin\\anaconda3\\envs\\AIcoures\\lib\\site-packages\\sklearn\\tree\\_classes.py:370: FutureWarning: Criterion 'mae' was deprecated in v1.0 and will be removed in version 1.2. Use `criterion='absolute_error'` which is equivalent.\n",
      "  FutureWarning,\n",
      "C:\\Users\\Admin\\anaconda3\\envs\\AIcoures\\lib\\site-packages\\sklearn\\tree\\_classes.py:370: FutureWarning: Criterion 'mae' was deprecated in v1.0 and will be removed in version 1.2. Use `criterion='absolute_error'` which is equivalent.\n",
      "  FutureWarning,\n",
      "C:\\Users\\Admin\\anaconda3\\envs\\AIcoures\\lib\\site-packages\\sklearn\\tree\\_classes.py:370: FutureWarning: Criterion 'mae' was deprecated in v1.0 and will be removed in version 1.2. Use `criterion='absolute_error'` which is equivalent.\n",
      "  FutureWarning,\n",
      "C:\\Users\\Admin\\anaconda3\\envs\\AIcoures\\lib\\site-packages\\sklearn\\tree\\_classes.py:370: FutureWarning: Criterion 'mae' was deprecated in v1.0 and will be removed in version 1.2. Use `criterion='absolute_error'` which is equivalent.\n",
      "  FutureWarning,\n",
      "C:\\Users\\Admin\\anaconda3\\envs\\AIcoures\\lib\\site-packages\\sklearn\\tree\\_classes.py:370: FutureWarning: Criterion 'mae' was deprecated in v1.0 and will be removed in version 1.2. Use `criterion='absolute_error'` which is equivalent.\n",
      "  FutureWarning,\n",
      "C:\\Users\\Admin\\anaconda3\\envs\\AIcoures\\lib\\site-packages\\sklearn\\tree\\_classes.py:370: FutureWarning: Criterion 'mae' was deprecated in v1.0 and will be removed in version 1.2. Use `criterion='absolute_error'` which is equivalent.\n",
      "  FutureWarning,\n",
      "C:\\Users\\Admin\\anaconda3\\envs\\AIcoures\\lib\\site-packages\\sklearn\\tree\\_classes.py:370: FutureWarning: Criterion 'mae' was deprecated in v1.0 and will be removed in version 1.2. Use `criterion='absolute_error'` which is equivalent.\n",
      "  FutureWarning,\n",
      "C:\\Users\\Admin\\anaconda3\\envs\\AIcoures\\lib\\site-packages\\sklearn\\tree\\_classes.py:370: FutureWarning: Criterion 'mae' was deprecated in v1.0 and will be removed in version 1.2. Use `criterion='absolute_error'` which is equivalent.\n",
      "  FutureWarning,\n",
      "C:\\Users\\Admin\\anaconda3\\envs\\AIcoures\\lib\\site-packages\\sklearn\\tree\\_classes.py:370: FutureWarning: Criterion 'mae' was deprecated in v1.0 and will be removed in version 1.2. Use `criterion='absolute_error'` which is equivalent.\n",
      "  FutureWarning,\n",
      "C:\\Users\\Admin\\anaconda3\\envs\\AIcoures\\lib\\site-packages\\sklearn\\tree\\_classes.py:370: FutureWarning: Criterion 'mae' was deprecated in v1.0 and will be removed in version 1.2. Use `criterion='absolute_error'` which is equivalent.\n",
      "  FutureWarning,\n",
      "C:\\Users\\Admin\\anaconda3\\envs\\AIcoures\\lib\\site-packages\\sklearn\\tree\\_classes.py:370: FutureWarning: Criterion 'mae' was deprecated in v1.0 and will be removed in version 1.2. Use `criterion='absolute_error'` which is equivalent.\n",
      "  FutureWarning,\n",
      "C:\\Users\\Admin\\anaconda3\\envs\\AIcoures\\lib\\site-packages\\sklearn\\tree\\_classes.py:370: FutureWarning: Criterion 'mae' was deprecated in v1.0 and will be removed in version 1.2. Use `criterion='absolute_error'` which is equivalent.\n",
      "  FutureWarning,\n",
      "C:\\Users\\Admin\\anaconda3\\envs\\AIcoures\\lib\\site-packages\\sklearn\\tree\\_classes.py:370: FutureWarning: Criterion 'mae' was deprecated in v1.0 and will be removed in version 1.2. Use `criterion='absolute_error'` which is equivalent.\n",
      "  FutureWarning,\n",
      "C:\\Users\\Admin\\anaconda3\\envs\\AIcoures\\lib\\site-packages\\sklearn\\tree\\_classes.py:370: FutureWarning: Criterion 'mae' was deprecated in v1.0 and will be removed in version 1.2. Use `criterion='absolute_error'` which is equivalent.\n",
      "  FutureWarning,\n",
      "C:\\Users\\Admin\\anaconda3\\envs\\AIcoures\\lib\\site-packages\\sklearn\\tree\\_classes.py:370: FutureWarning: Criterion 'mae' was deprecated in v1.0 and will be removed in version 1.2. Use `criterion='absolute_error'` which is equivalent.\n",
      "  FutureWarning,\n",
      "C:\\Users\\Admin\\anaconda3\\envs\\AIcoures\\lib\\site-packages\\sklearn\\tree\\_classes.py:370: FutureWarning: Criterion 'mae' was deprecated in v1.0 and will be removed in version 1.2. Use `criterion='absolute_error'` which is equivalent.\n",
      "  FutureWarning,\n",
      "C:\\Users\\Admin\\anaconda3\\envs\\AIcoures\\lib\\site-packages\\sklearn\\tree\\_classes.py:370: FutureWarning: Criterion 'mae' was deprecated in v1.0 and will be removed in version 1.2. Use `criterion='absolute_error'` which is equivalent.\n",
      "  FutureWarning,\n",
      "C:\\Users\\Admin\\anaconda3\\envs\\AIcoures\\lib\\site-packages\\sklearn\\tree\\_classes.py:370: FutureWarning: Criterion 'mae' was deprecated in v1.0 and will be removed in version 1.2. Use `criterion='absolute_error'` which is equivalent.\n",
      "  FutureWarning,\n",
      "C:\\Users\\Admin\\anaconda3\\envs\\AIcoures\\lib\\site-packages\\sklearn\\tree\\_classes.py:370: FutureWarning: Criterion 'mae' was deprecated in v1.0 and will be removed in version 1.2. Use `criterion='absolute_error'` which is equivalent.\n",
      "  FutureWarning,\n",
      "C:\\Users\\Admin\\anaconda3\\envs\\AIcoures\\lib\\site-packages\\sklearn\\tree\\_classes.py:370: FutureWarning: Criterion 'mae' was deprecated in v1.0 and will be removed in version 1.2. Use `criterion='absolute_error'` which is equivalent.\n",
      "  FutureWarning,\n",
      "C:\\Users\\Admin\\anaconda3\\envs\\AIcoures\\lib\\site-packages\\sklearn\\tree\\_classes.py:370: FutureWarning: Criterion 'mae' was deprecated in v1.0 and will be removed in version 1.2. Use `criterion='absolute_error'` which is equivalent.\n",
      "  FutureWarning,\n",
      "C:\\Users\\Admin\\anaconda3\\envs\\AIcoures\\lib\\site-packages\\sklearn\\tree\\_classes.py:370: FutureWarning: Criterion 'mae' was deprecated in v1.0 and will be removed in version 1.2. Use `criterion='absolute_error'` which is equivalent.\n",
      "  FutureWarning,\n",
      "C:\\Users\\Admin\\anaconda3\\envs\\AIcoures\\lib\\site-packages\\sklearn\\tree\\_classes.py:363: FutureWarning: Criterion 'mse' was deprecated in v1.0 and will be removed in version 1.2. Use `criterion='squared_error'` which is equivalent.\n",
      "  FutureWarning,\n"
     ]
    },
    {
     "name": "stdout",
     "output_type": "stream",
     "text": [
      "               Model  R2 Score\n",
      "0  Linear Regression  0.198120\n",
      "1                SVR  0.262687\n",
      "2      Decision Tree  0.599522\n",
      "3      Random Forest  0.604271\n"
     ]
    }
   ],
   "source": [
    "# import csv file \n",
    "data = pd.read_csv(\"pre-E_comm.csv\",index_col=None)\n",
    "df2=data\n",
    "# get dummies dataset \n",
    "df2 = pd.get_dummies(df2, drop_first=True)\n",
    "# X is independent set\n",
    "X=df2.drop('Churn', 1)\n",
    "# y is dependent set\n",
    "y=df2['Churn']\n",
    "# split X_train, X_test, y_train, y_test\n",
    "X_train, X_test, y_train, y_test = split_data(X, y)\n",
    "# standard scalar preprocess\n",
    "X_train_scaled, X_test_scaled, scaler = preprocess_data(X_train, X_test)\n",
    "# Features selected\n",
    "X_train_selected, X_test_selected ,selector= select_k_best(X_train_scaled, X_test_scaled, y_train, k=5)\n",
    "# Best model\n",
    "best_models = train_models(X_train_selected, y_train)\n",
    "\n",
    "results_df = evaluate_models(best_models, X_test_selected, y_test)\n",
    "print(results_df)\n"
   ]
  },
  {
   "cell_type": "code",
   "execution_count": 9,
   "id": "a006b8c9",
   "metadata": {},
   "outputs": [
    {
     "name": "stdout",
     "output_type": "stream",
     "text": [
      "Selected Features: Index(['Tenure', 'Complain', 'CashbackAmount', 'PreferedOrderCat_Mobile Phone',\n",
      "       'MaritalStatus_Single'],\n",
      "      dtype='object')\n"
     ]
    }
   ],
   "source": [
    "# which variables gives best model usign feature selection\n",
    "selected_features = X.columns[selector.get_support()]\n",
    "print('Selected Features:', selected_features)"
   ]
  },
  {
   "cell_type": "code",
   "execution_count": 25,
   "id": "269673a0",
   "metadata": {},
   "outputs": [],
   "source": [
    "# save model \n",
    "\n",
    "save_model(best_models, 'best_models.pkl')\n",
    "save_model(scaler, 'scaler.pkl')\n",
    "save_model(selector, 'selector.pkl', 'wb')"
   ]
  },
  {
   "cell_type": "code",
   "execution_count": 26,
   "id": "2c39e531",
   "metadata": {},
   "outputs": [],
   "source": [
    "# loaded models\n",
    "\n",
    "with open('best_models.pkl', 'rb') as file:\n",
    "    loaded_best_models = pickle.load(file)\n",
    "\n",
    "with open('scaler.pkl', 'rb') as file:\n",
    "    loaded_scaler = pickle.load(file)\n",
    "    \n",
    "with open('selector.pkl', 'rb') as file:\n",
    "    loaded_selector = pickle.load(file)\n",
    "    "
   ]
  },
  {
   "cell_type": "code",
   "execution_count": 27,
   "id": "1e52b993",
   "metadata": {},
   "outputs": [],
   "source": [
    "# deployment phase\n",
    "\n",
    "X_new = X_new.reindex(columns=X.columns, fill_value=0)"
   ]
  },
  {
   "cell_type": "code",
   "execution_count": 28,
   "id": "1af91f33",
   "metadata": {},
   "outputs": [
    {
     "name": "stdout",
     "output_type": "stream",
     "text": [
      "Predicted Churn Status: [0.44259524]\n"
     ]
    }
   ],
   "source": [
    "# call the loaded model\n",
    "X_new_scaled = loaded_scaler.transform(X_new)\n",
    "X_new_selected = selector.transform(X_new_scaled)\n",
    "# predicted the model\n",
    "predictions = loaded_best_models['Random Forest'].predict(X_new_selected)\n",
    "\n",
    "\n",
    "print(\"Predicted Churn Status:\", predictions)\n"
   ]
  },
  {
   "cell_type": "code",
   "execution_count": null,
   "id": "f2dda227",
   "metadata": {},
   "outputs": [],
   "source": []
  }
 ],
 "metadata": {
  "kernelspec": {
   "display_name": "Python 3 (ipykernel)",
   "language": "python",
   "name": "python3"
  },
  "language_info": {
   "codemirror_mode": {
    "name": "ipython",
    "version": 3
   },
   "file_extension": ".py",
   "mimetype": "text/x-python",
   "name": "python",
   "nbconvert_exporter": "python",
   "pygments_lexer": "ipython3",
   "version": "3.7.6"
  }
 },
 "nbformat": 4,
 "nbformat_minor": 5
}
