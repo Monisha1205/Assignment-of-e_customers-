{
 "cells": [
  {
   "cell_type": "markdown",
   "id": "deec8c9f",
   "metadata": {},
   "source": [
    "# deployment phase"
   ]
  },
  {
   "cell_type": "code",
   "execution_count": 1,
   "id": "85487349",
   "metadata": {},
   "outputs": [],
   "source": [
    "# import pickle and pandas \n",
    "import pickle\n",
    "import pandas as pd"
   ]
  },
  {
   "cell_type": "code",
   "execution_count": 2,
   "id": "d327ac06",
   "metadata": {},
   "outputs": [],
   "source": [
    "# import datase\n",
    "data = pd.read_csv(\"pre-E_comm.csv\",index_col=None)\n",
    "df2=data\n",
    "# get dummies dataset \n",
    "df2 = pd.get_dummies(df2, drop_first=True)\n",
    "# X is independent set\n",
    "X=df2.drop('Churn', 1)\n",
    "# y is dependent set\n",
    "y=df2['Churn']"
   ]
  },
  {
   "cell_type": "code",
   "execution_count": 3,
   "id": "40a93ffa",
   "metadata": {},
   "outputs": [],
   "source": [
    "with open('best_models.pkl', 'rb') as file:\n",
    "    loaded_best_models = pickle.load(file)\n",
    "\n",
    "with open('scaler.pkl', 'rb') as file:\n",
    "    loaded_scaler = pickle.load(file)\n",
    "    \n",
    "with open('selector.pkl', 'rb') as file:\n",
    "    loaded_selector = pickle.load(file)\n",
    "    "
   ]
  },
  {
   "cell_type": "code",
   "execution_count": 5,
   "id": "6c6f15d6",
   "metadata": {},
   "outputs": [
    {
     "name": "stdout",
     "output_type": "stream",
     "text": [
      "Predicted Churn Status: [0.68       0.70487585 0.96480952 ... 0.37902381 0.         0.        ]\n"
     ]
    }
   ],
   "source": [
    "X_new_scaled = loaded_scaler.transform(X)\n",
    "X_new_selected = loaded_selector.transform(X_new_scaled)\n",
    "predictions = loaded_best_models['Random Forest'].predict(X_new_selected)\n",
    "\n",
    "\n",
    "print(\"Predicted Churn Status:\", predictions)"
   ]
  },
  {
   "cell_type": "code",
   "execution_count": null,
   "id": "e7087e67",
   "metadata": {},
   "outputs": [],
   "source": []
  }
 ],
 "metadata": {
  "kernelspec": {
   "display_name": "Python 3 (ipykernel)",
   "language": "python",
   "name": "python3"
  },
  "language_info": {
   "codemirror_mode": {
    "name": "ipython",
    "version": 3
   },
   "file_extension": ".py",
   "mimetype": "text/x-python",
   "name": "python",
   "nbconvert_exporter": "python",
   "pygments_lexer": "ipython3",
   "version": "3.7.6"
  }
 },
 "nbformat": 4,
 "nbformat_minor": 5
}
